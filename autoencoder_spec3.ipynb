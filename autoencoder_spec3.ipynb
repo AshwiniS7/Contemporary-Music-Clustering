{
 "cells": [
  {
   "cell_type": "markdown",
   "id": "368e069e",
   "metadata": {},
   "source": [
    "# New version with CNN"
   ]
  },
  {
   "cell_type": "code",
   "execution_count": 1,
   "id": "4d92657e",
   "metadata": {},
   "outputs": [],
   "source": [
    "import numpy as np\n",
    "import matplotlib.pyplot as plt\n",
    "import keras\n",
    "from keras.layers import MaxPooling2D, UpSampling2D\n",
    "from keras.layers import Conv2D, Input, Dense\n",
    "from keras.models import Model\n",
    "from keras.models import Sequential\n",
    "import pandas as pd\n",
    "import librosa\n",
    "import librosa.display\n",
    "import matplotlib.pyplot as plt\n",
    "import cv2\n",
    "from sklearn.cluster import KMeans\n",
    "\n",
    "# https://medium.com/@iampatricolee18/autoencoder-k-means-clustering-epl-players-by-their-career-statistics-f38e2ea6e375\n",
    "# https://blog.keras.io/building-autoencoders-in-keras.html\n",
    "# https://medium.com/cubicalchrome/autoencoder-in-spectrogram-1b789f538adb\n",
    "# https://towardsdatascience.com/no-kernels-filters-are-not-the-same-b230ec192ac9\n",
    "# https://towardsdatascience.com/convolutional-autoencoders-for-image-noise-reduction-32fce9fc1763"
   ]
  },
  {
   "cell_type": "code",
   "execution_count": 2,
   "id": "2f8a6283",
   "metadata": {},
   "outputs": [],
   "source": [
    "musicFilePath = \"./music/\"\n",
    "specFilePath = \"./spectrogram/\"\n",
    "songFile = musicFilePath + \"songs.txt\"\n",
    "specLengthPix = 300\n",
    "specWidthPix = 300\n",
    "specOffset = 15\n",
    "specDuration = 120"
   ]
  },
  {
   "cell_type": "code",
   "execution_count": 3,
   "id": "8477efd2",
   "metadata": {},
   "outputs": [],
   "source": [
    "# Generates spectrograms for list of songs and stores them as files\n",
    "# Parameters: \n",
    "# li: list of song audio filenames\n",
    "# off: offset of sound snippet to capture in spectrogram\n",
    "# dur: duration of sound snippet to capture in spectrogram\n",
    "# mfp: path to folder with song audio files\n",
    "# sfp: path to store spectrogram files\n",
    "def genSpec(li, off, dur, mfp, sfp):\n",
    "    for i in range(0,len(li)):\n",
    "        fileName = li[i]\n",
    "        s, s_rate = librosa.load(mfp + fileName, sr=None, offset=off, duration=dur)\n",
    "        \n",
    "        ## Short-time Fourier transform (STFT)\n",
    "        ## Returns complex-valued matrix of short-term Fourier transform coefficients\n",
    "        spec = librosa.stft(s)\n",
    "        \n",
    "        ## Graphs time vs. frequency\n",
    "        ## Shows amplitude using colors (higher amplitude = brighter color)\n",
    "        # librosa.display.specshow(spec)\n",
    "        \n",
    "        ## Mel Spectrogram\n",
    "        ## Separate a complex-valued spectrogram D into its magnitude (S) and phase (P) components, so that D = S * P\n",
    "        spec_mag, _ = librosa.magphase(spec)\n",
    "        spec_mel = librosa.feature.melspectrogram(S=spec_mag, sr=s_rate)\n",
    "        # librosa.display.specshow(spec_mel)\n",
    "        # print(spec_mag)\n",
    "        \n",
    "        ## Final Mel Spectrogram (uses the decibel scale)\n",
    "        ## Converts an amplitude spectrogram to dB-scaled spectrogram\n",
    "        spec_mel_amp = librosa.amplitude_to_db(spec_mel)\n",
    "        librosa.display.specshow(spec_mel_amp,sr=s_rate, x_axis='time', y_axis='mel')\n",
    "        plt.colorbar(format='%+2.0f dB')\n",
    "        plt.savefig(sfp + fileName + \"_spec.png\", bbox_inches='tight')\n",
    "        plt.clf()"
   ]
  },
  {
   "cell_type": "code",
   "execution_count": 4,
   "id": "16a9ff38",
   "metadata": {},
   "outputs": [
    {
     "name": "stdout",
     "output_type": "stream",
     "text": [
      "           File           Artist                   Title\n",
      "0      id_b.mp3  Imagine Dragons                Believer\n",
      "1      id_n.mp3  Imagine Dragons                 Natural\n",
      "2    s_eott.mp3         Survivor        Eye of the Tiger\n",
      "3    be_eiw.mp3    Billie Eilish     Everything I Wanted\n",
      "4   lc_atkd.mp3    Leonard Cohen  A Thousand Kisses Deep\n",
      "5      jc_h.mp3      Johnny Cash                    Hurt\n",
      "6    ec_tih.mp3     Eric Clapton         Tears in Heaven\n",
      "7     s_fog.mp3            Sting          Fields of Gold\n",
      "8    g_homh.mp3          Genesis        Hold on My Heart\n",
      "9      dj_s.mp3    Damien Jurado                  Sheets\n",
      "10     es_s.mp3       Ed Sheeran                 Shivers\n",
      "11    m_lib.mp3          Madonna          La Isla Bonita\n",
      "12     e_hc.mp3           Eagles        Hotel California\n",
      "13   tai_dm.mp3      Tones and I            Dance Monkey\n",
      "14    bg_sa.mp3         Bee Gees           Stayin' Alive\n"
     ]
    },
    {
     "name": "stderr",
     "output_type": "stream",
     "text": [
      "/Users/ashwini/miniforge3/lib/python3.9/site-packages/librosa/core/audio.py:165: UserWarning: PySoundFile failed. Trying audioread instead.\n",
      "  warnings.warn(\"PySoundFile failed. Trying audioread instead.\")\n",
      "/Users/ashwini/miniforge3/lib/python3.9/site-packages/librosa/core/audio.py:165: UserWarning: PySoundFile failed. Trying audioread instead.\n",
      "  warnings.warn(\"PySoundFile failed. Trying audioread instead.\")\n",
      "/Users/ashwini/miniforge3/lib/python3.9/site-packages/librosa/core/audio.py:165: UserWarning: PySoundFile failed. Trying audioread instead.\n",
      "  warnings.warn(\"PySoundFile failed. Trying audioread instead.\")\n",
      "/Users/ashwini/miniforge3/lib/python3.9/site-packages/librosa/core/audio.py:165: UserWarning: PySoundFile failed. Trying audioread instead.\n",
      "  warnings.warn(\"PySoundFile failed. Trying audioread instead.\")\n",
      "/Users/ashwini/miniforge3/lib/python3.9/site-packages/librosa/core/audio.py:165: UserWarning: PySoundFile failed. Trying audioread instead.\n",
      "  warnings.warn(\"PySoundFile failed. Trying audioread instead.\")\n",
      "/Users/ashwini/miniforge3/lib/python3.9/site-packages/librosa/core/audio.py:165: UserWarning: PySoundFile failed. Trying audioread instead.\n",
      "  warnings.warn(\"PySoundFile failed. Trying audioread instead.\")\n",
      "/Users/ashwini/miniforge3/lib/python3.9/site-packages/librosa/core/audio.py:165: UserWarning: PySoundFile failed. Trying audioread instead.\n",
      "  warnings.warn(\"PySoundFile failed. Trying audioread instead.\")\n",
      "/Users/ashwini/miniforge3/lib/python3.9/site-packages/librosa/core/audio.py:165: UserWarning: PySoundFile failed. Trying audioread instead.\n",
      "  warnings.warn(\"PySoundFile failed. Trying audioread instead.\")\n",
      "/Users/ashwini/miniforge3/lib/python3.9/site-packages/librosa/core/audio.py:165: UserWarning: PySoundFile failed. Trying audioread instead.\n",
      "  warnings.warn(\"PySoundFile failed. Trying audioread instead.\")\n",
      "/Users/ashwini/miniforge3/lib/python3.9/site-packages/librosa/core/audio.py:165: UserWarning: PySoundFile failed. Trying audioread instead.\n",
      "  warnings.warn(\"PySoundFile failed. Trying audioread instead.\")\n",
      "/Users/ashwini/miniforge3/lib/python3.9/site-packages/librosa/core/audio.py:165: UserWarning: PySoundFile failed. Trying audioread instead.\n",
      "  warnings.warn(\"PySoundFile failed. Trying audioread instead.\")\n",
      "/Users/ashwini/miniforge3/lib/python3.9/site-packages/librosa/core/audio.py:165: UserWarning: PySoundFile failed. Trying audioread instead.\n",
      "  warnings.warn(\"PySoundFile failed. Trying audioread instead.\")\n",
      "/Users/ashwini/miniforge3/lib/python3.9/site-packages/librosa/core/audio.py:165: UserWarning: PySoundFile failed. Trying audioread instead.\n",
      "  warnings.warn(\"PySoundFile failed. Trying audioread instead.\")\n",
      "/Users/ashwini/miniforge3/lib/python3.9/site-packages/librosa/core/audio.py:165: UserWarning: PySoundFile failed. Trying audioread instead.\n",
      "  warnings.warn(\"PySoundFile failed. Trying audioread instead.\")\n",
      "/Users/ashwini/miniforge3/lib/python3.9/site-packages/librosa/core/audio.py:165: UserWarning: PySoundFile failed. Trying audioread instead.\n",
      "  warnings.warn(\"PySoundFile failed. Trying audioread instead.\")\n"
     ]
    },
    {
     "data": {
      "text/plain": [
       "<Figure size 432x288 with 0 Axes>"
      ]
     },
     "metadata": {},
     "output_type": "display_data"
    }
   ],
   "source": [
    "songs = pd.read_table(songFile, delimiter='\\t')\n",
    "print(songs)\n",
    "genSpec(songs[\"File\"], specOffset, specDuration, musicFilePath, specFilePath)"
   ]
  },
  {
   "cell_type": "code",
   "execution_count": 5,
   "id": "8269086f",
   "metadata": {},
   "outputs": [],
   "source": [
    "# Standardizes spectrograms to feed to autoencoder by converting them to gray-scale,\n",
    "# scaling pixel values from 0-255 to 0-1, and resizing images\n",
    "# Parameters:\n",
    "# li: list of song audio filenames\n",
    "# sfp: path to where spectrogram files are stored\n",
    "# lPix: pixel length to rescale images to\n",
    "# wPix: pixel width to rescale images to\n",
    "def standSpec(li, sfp, lPix, wPix):\n",
    "    trainSet = []\n",
    "    plt.gray()\n",
    "    for i in range(0, len(li)):\n",
    "        fileName = li[i]\n",
    "        # Converts image to grayscale\n",
    "        sp = cv2.imread(sfp + fileName + \"_spec.png\", 0)\n",
    "        # print(sp[50][100])\n",
    "        \n",
    "        # Scales pixel values to 0-1\n",
    "        sp = sp.astype('float32')/255.0\n",
    "        # print(sp[50][100])\n",
    "        # print(sp)\n",
    "        \n",
    "        # Resizes image\n",
    "        sp = cv2.resize(sp,(lPix,wPix))\n",
    "        plt.imshow(sp)\n",
    "        plt.savefig(sfp + fileName + \"_spec_gscale.png\",bbox_inches='tight')\n",
    "        plt.clf()\n",
    "        # cv2.imwrite(sfp + fileName + \"_spec_gscale.png\", sp)\n",
    "        trainSet.append(sp)\n",
    "\n",
    "    # trainSet = np.array(trainSet)\n",
    "    trainSet = np.reshape(trainSet, (len(trainSet),lPix,wPix,1))\n",
    "    return trainSet"
   ]
  },
  {
   "cell_type": "code",
   "execution_count": 6,
   "id": "608549db",
   "metadata": {},
   "outputs": [
    {
     "data": {
      "text/plain": [
       "<Figure size 432x288 with 0 Axes>"
      ]
     },
     "metadata": {},
     "output_type": "display_data"
    }
   ],
   "source": [
    "train = standSpec(songs[\"File\"], specFilePath, specLengthPix, specWidthPix)"
   ]
  },
  {
   "cell_type": "code",
   "execution_count": 7,
   "id": "6c6c52b3",
   "metadata": {},
   "outputs": [
    {
     "data": {
      "text/plain": [
       "(15, 300, 300, 1)"
      ]
     },
     "execution_count": 7,
     "metadata": {},
     "output_type": "execute_result"
    }
   ],
   "source": [
    "train.shape"
   ]
  },
  {
   "cell_type": "code",
   "execution_count": 29,
   "id": "a856218c",
   "metadata": {},
   "outputs": [],
   "source": [
    "# inputShape = tuple (28,28,1)\n",
    "# layerSeq = list of layers = [conv, maxpooling2D, conv]\n",
    "# numFilters = list of number of filters per layer [3,2,2]\n",
    "# filterSize = list of dimension of the square filter per layer [3,4,4]\n",
    "# means 3x3 filter on first layer, 4x4 on second layer, ...\n",
    "# pad = padding for each layer [\"valid\", \"same\", \"valid\"]\n",
    "def genModelCNN(inputShape, layerSeq, numFilters, kernelSize, pad, act):\n",
    "    autoencoder = Sequential()\n",
    "    \n",
    "    for l in range(0, len(layerSeq)):\n",
    "        if (layerSeq[l] == \"Input\"):\n",
    "            autoencoder.add(Input(shape = inputShape))\n",
    "        elif (layerSeq[l] == \"C2D\"):\n",
    "            autoencoder.add(Conv2D(numFilters[l], (kernelSize[l], kernelSize[l]), \n",
    "                                   activation=act[l], padding=pad[l]))\n",
    "        elif (layerSeq[l] == \"MP2D\"):\n",
    "            autoencoder.add(MaxPooling2D((kernelSize[l], kernelSize[l]), padding=pad[l]))\n",
    "        elif (layerSeq[l] == \"US2D\"):\n",
    "            autoencoder.add(UpSampling2D((kernelSize[l], kernelSize[l])))\n",
    "        else:\n",
    "            print(\"Could not interpret layer\")\n",
    "    \n",
    "    autoencoder.compile(optimizer = \"adam\", loss = \"binary_crossentropy\")\n",
    "    # encoder = Model(inputs=autoencoder.input, outputs=autoencoder.layers[len(layerSeq)//2 - 1].output)\n",
    "    # latShape = autoencoder.layers[len(layerSeq)//2-1].output_shape\n",
    "    # dInput = Input(shape=latShape)\n",
    "    # decoder = Model(inputs=Input(shape=latShape), outputs=autoencoder.layers[len(layerSeq)-2](dInput).output)\n",
    "    latentShape = autoencoder.layers[(len(layerSeq)-1)//2].output_shape\n",
    "    latentShape = latentShape[1:]\n",
    "    print(latentShape)\n",
    "    \n",
    "    encoder = Sequential()\n",
    "    encoder.add(Input(shape = inputShape))\n",
    "    for i in range(0, (len(layerSeq)-1)//2+1):\n",
    "        encoder.add(autoencoder.layers[i])\n",
    "    \n",
    "    decoder = Sequential()\n",
    "    decoder.add(Input(shape = latentShape))\n",
    "    for i in range((len(layerSeq)-1)//2+1,len(layerSeq)-1):\n",
    "        decoder.add(autoencoder.layers[i])\n",
    "        \n",
    "    return autoencoder, encoder, decoder, latentShape;"
   ]
  },
  {
   "cell_type": "code",
   "execution_count": 35,
   "id": "c1a127e3",
   "metadata": {},
   "outputs": [],
   "source": [
    "inputShape = (specLengthPix,specWidthPix,1)\n",
    "layerSeq = [\"Input\", \"C2D\", \"MP2D\", \"C2D\", \"MP2D\", \"C2D\", \"MP2D\", \"C2D\", \"MP2D\" , \"C2D\" , \"US2D\", \n",
    "            \"C2D\", \"US2D\", \"C2D\",\"US2D\", \"C2D\", \"US2D\", \"C2D\"]\n",
    "# numFilters = [-1,16,-1,8,-1,8,-1,8,-1,8,-1,16,-1,1]\n",
    "numFilters = [-1,16,-1,8,-1,8,-1,8,-1,1,-1,8,-1,8,-1,8,-1,1]\n",
    "kernelSize = [-1,3,2,3,2,3,2,3,2,3,2,3,2,3,2,3,2,3]\n",
    "pad = [\"-1\", \"same\", \"same\", \"same\", \"same\", \"same\", \"same\", \"same\", \"same\", \n",
    "       \"same\", \"-1\", \"same\", \"-1\", \"same\", \"-1\", \"valid\", \"-1\", \"same\"]\n",
    "act = [\"-1\", \"relu\", \"-1\", \"relu\", \"-1\", \"relu\", \"-1\", \"relu\", \"-1\", \n",
    "       \"relu\", \"-1\", \"relu\", \"-1\", \"relu\", \"-1\", \"relu\", \"-1\", \"sigmoid\"]"
   ]
  },
  {
   "cell_type": "code",
   "execution_count": 36,
   "id": "69b1aefd",
   "metadata": {},
   "outputs": [
    {
     "name": "stdout",
     "output_type": "stream",
     "text": [
      "(19, 19, 1)\n"
     ]
    }
   ],
   "source": [
    "# Creates the autoencoder, encoder, and decoder based on parameters\n",
    "ae,e,d,latentShape = genModelCNN(inputShape, layerSeq, numFilters, kernelSize, pad, act)"
   ]
  },
  {
   "cell_type": "code",
   "execution_count": 37,
   "id": "b2d578b7",
   "metadata": {},
   "outputs": [
    {
     "name": "stdout",
     "output_type": "stream",
     "text": [
      "Model: \"sequential_7\"\n",
      "_________________________________________________________________\n",
      " Layer (type)                Output Shape              Param #   \n",
      "=================================================================\n",
      " conv2d_24 (Conv2D)          (None, 300, 300, 16)      160       \n",
      "                                                                 \n",
      " max_pooling2d_11 (MaxPoolin  (None, 150, 150, 16)     0         \n",
      " g2D)                                                            \n",
      "                                                                 \n",
      " conv2d_25 (Conv2D)          (None, 150, 150, 8)       1160      \n",
      "                                                                 \n",
      " max_pooling2d_12 (MaxPoolin  (None, 75, 75, 8)        0         \n",
      " g2D)                                                            \n",
      "                                                                 \n",
      " conv2d_26 (Conv2D)          (None, 75, 75, 8)         584       \n",
      "                                                                 \n",
      " max_pooling2d_13 (MaxPoolin  (None, 38, 38, 8)        0         \n",
      " g2D)                                                            \n",
      "                                                                 \n",
      " conv2d_27 (Conv2D)          (None, 38, 38, 8)         584       \n",
      "                                                                 \n",
      " max_pooling2d_14 (MaxPoolin  (None, 19, 19, 8)        0         \n",
      " g2D)                                                            \n",
      "                                                                 \n",
      " conv2d_28 (Conv2D)          (None, 19, 19, 1)         73        \n",
      "                                                                 \n",
      " up_sampling2d_11 (UpSamplin  (None, 38, 38, 1)        0         \n",
      " g2D)                                                            \n",
      "                                                                 \n",
      " conv2d_29 (Conv2D)          (None, 38, 38, 8)         80        \n",
      "                                                                 \n",
      " up_sampling2d_12 (UpSamplin  (None, 76, 76, 8)        0         \n",
      " g2D)                                                            \n",
      "                                                                 \n",
      " conv2d_30 (Conv2D)          (None, 76, 76, 8)         584       \n",
      "                                                                 \n",
      " up_sampling2d_13 (UpSamplin  (None, 152, 152, 8)      0         \n",
      " g2D)                                                            \n",
      "                                                                 \n",
      " conv2d_31 (Conv2D)          (None, 150, 150, 8)       584       \n",
      "                                                                 \n",
      " up_sampling2d_14 (UpSamplin  (None, 300, 300, 8)      0         \n",
      " g2D)                                                            \n",
      "                                                                 \n",
      " conv2d_32 (Conv2D)          (None, 300, 300, 1)       73        \n",
      "                                                                 \n",
      "=================================================================\n",
      "Total params: 3,882\n",
      "Trainable params: 3,882\n",
      "Non-trainable params: 0\n",
      "_________________________________________________________________\n"
     ]
    }
   ],
   "source": [
    "ae.summary()"
   ]
  },
  {
   "cell_type": "code",
   "execution_count": 38,
   "id": "7b613e7c",
   "metadata": {},
   "outputs": [
    {
     "name": "stdout",
     "output_type": "stream",
     "text": [
      "Model: \"sequential_8\"\n",
      "_________________________________________________________________\n",
      " Layer (type)                Output Shape              Param #   \n",
      "=================================================================\n",
      " conv2d_24 (Conv2D)          (None, 300, 300, 16)      160       \n",
      "                                                                 \n",
      " max_pooling2d_11 (MaxPoolin  (None, 150, 150, 16)     0         \n",
      " g2D)                                                            \n",
      "                                                                 \n",
      " conv2d_25 (Conv2D)          (None, 150, 150, 8)       1160      \n",
      "                                                                 \n",
      " max_pooling2d_12 (MaxPoolin  (None, 75, 75, 8)        0         \n",
      " g2D)                                                            \n",
      "                                                                 \n",
      " conv2d_26 (Conv2D)          (None, 75, 75, 8)         584       \n",
      "                                                                 \n",
      " max_pooling2d_13 (MaxPoolin  (None, 38, 38, 8)        0         \n",
      " g2D)                                                            \n",
      "                                                                 \n",
      " conv2d_27 (Conv2D)          (None, 38, 38, 8)         584       \n",
      "                                                                 \n",
      " max_pooling2d_14 (MaxPoolin  (None, 19, 19, 8)        0         \n",
      " g2D)                                                            \n",
      "                                                                 \n",
      " conv2d_28 (Conv2D)          (None, 19, 19, 1)         73        \n",
      "                                                                 \n",
      "=================================================================\n",
      "Total params: 2,561\n",
      "Trainable params: 2,561\n",
      "Non-trainable params: 0\n",
      "_________________________________________________________________\n"
     ]
    }
   ],
   "source": [
    "e.summary()"
   ]
  },
  {
   "cell_type": "code",
   "execution_count": 39,
   "id": "51ce95f5",
   "metadata": {
    "scrolled": true
   },
   "outputs": [
    {
     "name": "stdout",
     "output_type": "stream",
     "text": [
      "Model: \"sequential_9\"\n",
      "_________________________________________________________________\n",
      " Layer (type)                Output Shape              Param #   \n",
      "=================================================================\n",
      " up_sampling2d_11 (UpSamplin  (None, 38, 38, 1)        0         \n",
      " g2D)                                                            \n",
      "                                                                 \n",
      " conv2d_29 (Conv2D)          (None, 38, 38, 8)         80        \n",
      "                                                                 \n",
      " up_sampling2d_12 (UpSamplin  (None, 76, 76, 8)        0         \n",
      " g2D)                                                            \n",
      "                                                                 \n",
      " conv2d_30 (Conv2D)          (None, 76, 76, 8)         584       \n",
      "                                                                 \n",
      " up_sampling2d_13 (UpSamplin  (None, 152, 152, 8)      0         \n",
      " g2D)                                                            \n",
      "                                                                 \n",
      " conv2d_31 (Conv2D)          (None, 150, 150, 8)       584       \n",
      "                                                                 \n",
      " up_sampling2d_14 (UpSamplin  (None, 300, 300, 8)      0         \n",
      " g2D)                                                            \n",
      "                                                                 \n",
      " conv2d_32 (Conv2D)          (None, 300, 300, 1)       73        \n",
      "                                                                 \n",
      "=================================================================\n",
      "Total params: 1,321\n",
      "Trainable params: 1,321\n",
      "Non-trainable params: 0\n",
      "_________________________________________________________________\n"
     ]
    }
   ],
   "source": [
    "d.summary()"
   ]
  },
  {
   "cell_type": "code",
   "execution_count": 40,
   "id": "82083a67",
   "metadata": {},
   "outputs": [
    {
     "name": "stdout",
     "output_type": "stream",
     "text": [
      "Epoch 1/50\n",
      "1/1 [==============================] - 1s 614ms/step - loss: 0.6927\n",
      "Epoch 2/50\n",
      "1/1 [==============================] - 0s 257ms/step - loss: 0.6907\n",
      "Epoch 3/50\n",
      "1/1 [==============================] - 0s 257ms/step - loss: 0.6882\n",
      "Epoch 4/50\n",
      "1/1 [==============================] - 0s 253ms/step - loss: 0.6850\n",
      "Epoch 5/50\n",
      "1/1 [==============================] - 0s 252ms/step - loss: 0.6810\n",
      "Epoch 6/50\n",
      "1/1 [==============================] - 0s 255ms/step - loss: 0.6759\n",
      "Epoch 7/50\n",
      "1/1 [==============================] - 0s 252ms/step - loss: 0.6695\n",
      "Epoch 8/50\n",
      "1/1 [==============================] - 0s 255ms/step - loss: 0.6615\n",
      "Epoch 9/50\n",
      "1/1 [==============================] - 0s 268ms/step - loss: 0.6518\n",
      "Epoch 10/50\n",
      "1/1 [==============================] - 0s 260ms/step - loss: 0.6400\n",
      "Epoch 11/50\n",
      "1/1 [==============================] - 0s 253ms/step - loss: 0.6261\n",
      "Epoch 12/50\n",
      "1/1 [==============================] - 0s 257ms/step - loss: 0.6101\n",
      "Epoch 13/50\n",
      "1/1 [==============================] - 0s 257ms/step - loss: 0.5924\n",
      "Epoch 14/50\n",
      "1/1 [==============================] - 0s 254ms/step - loss: 0.5738\n",
      "Epoch 15/50\n",
      "1/1 [==============================] - 0s 269ms/step - loss: 0.5563\n",
      "Epoch 16/50\n",
      "1/1 [==============================] - 0s 263ms/step - loss: 0.5431\n",
      "Epoch 17/50\n",
      "1/1 [==============================] - 0s 263ms/step - loss: 0.5392\n",
      "Epoch 18/50\n",
      "1/1 [==============================] - 0s 257ms/step - loss: 0.5488\n",
      "Epoch 19/50\n",
      "1/1 [==============================] - 0s 260ms/step - loss: 0.5587\n",
      "Epoch 20/50\n",
      "1/1 [==============================] - 0s 264ms/step - loss: 0.5594\n",
      "Epoch 21/50\n",
      "1/1 [==============================] - 0s 253ms/step - loss: 0.5544\n",
      "Epoch 22/50\n",
      "1/1 [==============================] - 0s 265ms/step - loss: 0.5473\n",
      "Epoch 23/50\n",
      "1/1 [==============================] - 0s 266ms/step - loss: 0.5398\n",
      "Epoch 24/50\n",
      "1/1 [==============================] - 0s 254ms/step - loss: 0.5352\n",
      "Epoch 25/50\n",
      "1/1 [==============================] - 0s 261ms/step - loss: 0.5337\n",
      "Epoch 26/50\n",
      "1/1 [==============================] - 0s 256ms/step - loss: 0.5342\n",
      "Epoch 27/50\n",
      "1/1 [==============================] - 0s 256ms/step - loss: 0.5356\n",
      "Epoch 28/50\n",
      "1/1 [==============================] - 0s 259ms/step - loss: 0.5368\n",
      "Epoch 29/50\n",
      "1/1 [==============================] - 0s 266ms/step - loss: 0.5373\n",
      "Epoch 30/50\n",
      "1/1 [==============================] - 0s 264ms/step - loss: 0.5367\n",
      "Epoch 31/50\n",
      "1/1 [==============================] - 0s 259ms/step - loss: 0.5351\n",
      "Epoch 32/50\n",
      "1/1 [==============================] - 0s 259ms/step - loss: 0.5327\n",
      "Epoch 33/50\n",
      "1/1 [==============================] - 0s 250ms/step - loss: 0.5303\n",
      "Epoch 34/50\n",
      "1/1 [==============================] - 0s 255ms/step - loss: 0.5284\n",
      "Epoch 35/50\n",
      "1/1 [==============================] - 0s 254ms/step - loss: 0.5276\n",
      "Epoch 36/50\n",
      "1/1 [==============================] - 0s 253ms/step - loss: 0.5278\n",
      "Epoch 37/50\n",
      "1/1 [==============================] - 0s 253ms/step - loss: 0.5281\n",
      "Epoch 38/50\n",
      "1/1 [==============================] - 0s 254ms/step - loss: 0.5277\n",
      "Epoch 39/50\n",
      "1/1 [==============================] - 0s 268ms/step - loss: 0.5264\n",
      "Epoch 40/50\n",
      "1/1 [==============================] - 0s 275ms/step - loss: 0.5246\n",
      "Epoch 41/50\n",
      "1/1 [==============================] - 0s 274ms/step - loss: 0.5230\n",
      "Epoch 42/50\n",
      "1/1 [==============================] - 0s 263ms/step - loss: 0.5218\n",
      "Epoch 43/50\n",
      "1/1 [==============================] - 0s 281ms/step - loss: 0.5211\n",
      "Epoch 44/50\n",
      "1/1 [==============================] - 0s 272ms/step - loss: 0.5206\n",
      "Epoch 45/50\n",
      "1/1 [==============================] - 0s 253ms/step - loss: 0.5201\n",
      "Epoch 46/50\n",
      "1/1 [==============================] - 0s 260ms/step - loss: 0.5193\n",
      "Epoch 47/50\n",
      "1/1 [==============================] - 0s 255ms/step - loss: 0.5182\n",
      "Epoch 48/50\n",
      "1/1 [==============================] - 0s 253ms/step - loss: 0.5173\n",
      "Epoch 49/50\n",
      "1/1 [==============================] - 0s 255ms/step - loss: 0.5166\n",
      "Epoch 50/50\n",
      "1/1 [==============================] - 0s 261ms/step - loss: 0.5160\n"
     ]
    },
    {
     "data": {
      "text/plain": [
       "<keras.callbacks.History at 0x29bfd2d30>"
      ]
     },
     "execution_count": 40,
     "metadata": {},
     "output_type": "execute_result"
    }
   ],
   "source": [
    "ae.fit(train, train, batch_size=32, epochs=50)"
   ]
  },
  {
   "cell_type": "code",
   "execution_count": 41,
   "id": "be3fbb29",
   "metadata": {},
   "outputs": [],
   "source": [
    "# Images produced by the autoencoder (should be nearly identical to the input images)\n",
    "aeImgs = ae.predict(train)"
   ]
  },
  {
   "cell_type": "code",
   "execution_count": 42,
   "id": "5acb0bfa",
   "metadata": {},
   "outputs": [
    {
     "data": {
      "text/plain": [
       "<matplotlib.image.AxesImage at 0x29dd64ac0>"
      ]
     },
     "execution_count": 42,
     "metadata": {},
     "output_type": "execute_result"
    },
    {
     "data": {
      "image/png": "[encoded data removed]",
      "text/plain": [
       "<Figure size 432x288 with 1 Axes>"
      ]
     },
     "metadata": {
      "needs_background": "light"
     },
     "output_type": "display_data"
    }
   ],
   "source": [
    "# Input spectrogram\n",
    "imgIndex = 0\n",
    "plt.imshow(train[imgIndex].reshape(specLengthPix,specWidthPix))"
   ]
  },
  {
   "cell_type": "code",
   "execution_count": 43,
   "id": "a214568c",
   "metadata": {},
   "outputs": [
    {
     "data": {
      "text/plain": [
       "<matplotlib.image.AxesImage at 0x29c063580>"
      ]
     },
     "execution_count": 43,
     "metadata": {},
     "output_type": "execute_result"
    },
    {
     "data": {
      "image/png": "[encoded data removed]",
      "text/plain": [
       "<Figure size 432x288 with 1 Axes>"
      ]
     },
     "metadata": {
      "needs_background": "light"
     },
     "output_type": "display_data"
    }
   ],
   "source": [
    "# Image generated by autoencoder\n",
    "plt.imshow(aeImgs[imgIndex].reshape(specLengthPix,specWidthPix))"
   ]
  },
  {
   "cell_type": "code",
   "execution_count": 44,
   "id": "07344f24",
   "metadata": {},
   "outputs": [
    {
     "name": "stdout",
     "output_type": "stream",
     "text": [
      "WARNING:tensorflow:5 out of the last 5 calls to <function Model.make_predict_function.<locals>.predict_function at 0x29c0c2310> triggered tf.function retracing. Tracing is expensive and the excessive number of tracings could be due to (1) creating @tf.function repeatedly in a loop, (2) passing tensors with different shapes, (3) passing Python objects instead of tensors. For (1), please define your @tf.function outside of the loop. For (2), @tf.function has experimental_relax_shapes=True option that relaxes argument shapes that can avoid unnecessary retracing. For (3), please refer to https://www.tensorflow.org/guide/function#controlling_retracing and https://www.tensorflow.org/api_docs/python/tf/function for  more details.\n"
     ]
    },
    {
     "data": {
      "text/plain": [
       "(15, 19, 19, 1)"
      ]
     },
     "execution_count": 44,
     "metadata": {},
     "output_type": "execute_result"
    },
    {
     "data": {
      "image/png": "[encoded data removed]",
      "text/plain": [
       "<Figure size 432x288 with 1 Axes>"
      ]
     },
     "metadata": {
      "needs_background": "light"
     },
     "output_type": "display_data"
    }
   ],
   "source": [
    "eImgs = e.predict(train)\n",
    "# At the latent space layer\n",
    "plt.imshow(eImgs[imgIndex])\n",
    "eImgs.shape"
   ]
  },
  {
   "cell_type": "code",
   "execution_count": 45,
   "id": "c917d74e",
   "metadata": {},
   "outputs": [
    {
     "name": "stdout",
     "output_type": "stream",
     "text": [
      "WARNING:tensorflow:6 out of the last 6 calls to <function Model.make_predict_function.<locals>.predict_function at 0x29c13c670> triggered tf.function retracing. Tracing is expensive and the excessive number of tracings could be due to (1) creating @tf.function repeatedly in a loop, (2) passing tensors with different shapes, (3) passing Python objects instead of tensors. For (1), please define your @tf.function outside of the loop. For (2), @tf.function has experimental_relax_shapes=True option that relaxes argument shapes that can avoid unnecessary retracing. For (3), please refer to https://www.tensorflow.org/guide/function#controlling_retracing and https://www.tensorflow.org/api_docs/python/tf/function for  more details.\n"
     ]
    },
    {
     "data": {
      "text/plain": [
       "<matplotlib.image.AxesImage at 0x29c18fdc0>"
      ]
     },
     "execution_count": 45,
     "metadata": {},
     "output_type": "execute_result"
    },
    {
     "data": {
      "image/png": "[encoded data removed]",
      "text/plain": [
       "<Figure size 432x288 with 1 Axes>"
      ]
     },
     "metadata": {
      "needs_background": "light"
     },
     "output_type": "display_data"
    }
   ],
   "source": [
    "dImgs = d.predict(eImgs)\n",
    "# Puts the encoded images through the decoder to get what is produced by the autoencoder\n",
    "plt.imshow(dImgs[imgIndex].reshape(specLengthPix,specWidthPix))"
   ]
  },
  {
   "cell_type": "code",
   "execution_count": 46,
   "id": "07b6e240",
   "metadata": {},
   "outputs": [
    {
     "name": "stdout",
     "output_type": "stream",
     "text": [
      "[[[[0.8298256 ]\n",
      "   [1.0876447 ]\n",
      "   [0.79851615]\n",
      "   ...\n",
      "   [0.92335737]\n",
      "   [1.1318613 ]\n",
      "   [0.5624163 ]]\n",
      "\n",
      "  [[1.3272026 ]\n",
      "   [1.4860705 ]\n",
      "   [1.1787282 ]\n",
      "   ...\n",
      "   [1.6366858 ]\n",
      "   [1.8328834 ]\n",
      "   [0.7176404 ]]\n",
      "\n",
      "  [[1.5142918 ]\n",
      "   [1.7421288 ]\n",
      "   [1.3364583 ]\n",
      "   ...\n",
      "   [1.6677575 ]\n",
      "   [1.8764442 ]\n",
      "   [0.8812261 ]]\n",
      "\n",
      "  ...\n",
      "\n",
      "  [[1.3530498 ]\n",
      "   [1.6262482 ]\n",
      "   [1.5748451 ]\n",
      "   ...\n",
      "   [1.5567249 ]\n",
      "   [1.691214  ]\n",
      "   [0.7827536 ]]\n",
      "\n",
      "  [[1.4998722 ]\n",
      "   [1.807454  ]\n",
      "   [1.8486602 ]\n",
      "   ...\n",
      "   [1.6068814 ]\n",
      "   [1.7667671 ]\n",
      "   [0.86690646]]\n",
      "\n",
      "  [[0.9682988 ]\n",
      "   [0.5776098 ]\n",
      "   [0.6312479 ]\n",
      "   ...\n",
      "   [0.5381651 ]\n",
      "   [0.50619227]\n",
      "   [0.        ]]]\n",
      "\n",
      "\n",
      " [[[0.8298256 ]\n",
      "   [1.0845033 ]\n",
      "   [0.8015645 ]\n",
      "   ...\n",
      "   [0.8800133 ]\n",
      "   [1.0732963 ]\n",
      "   [0.49159995]]\n",
      "\n",
      "  [[1.3269197 ]\n",
      "   [1.487464  ]\n",
      "   [1.1888281 ]\n",
      "   ...\n",
      "   [1.6380548 ]\n",
      "   [1.8670375 ]\n",
      "   [0.7746706 ]]\n",
      "\n",
      "  [[1.5142663 ]\n",
      "   [1.7552061 ]\n",
      "   [1.3581257 ]\n",
      "   ...\n",
      "   [1.6327407 ]\n",
      "   [1.7856    ]\n",
      "   [0.81985253]]\n",
      "\n",
      "  ...\n",
      "\n",
      "  [[1.3531042 ]\n",
      "   [1.6271017 ]\n",
      "   [1.5712986 ]\n",
      "   ...\n",
      "   [1.5258809 ]\n",
      "   [1.6695443 ]\n",
      "   [0.78164274]]\n",
      "\n",
      "  [[1.4999521 ]\n",
      "   [1.8081399 ]\n",
      "   [1.848926  ]\n",
      "   ...\n",
      "   [1.6045905 ]\n",
      "   [1.7647283 ]\n",
      "   [0.866606  ]]\n",
      "\n",
      "  [[0.9682988 ]\n",
      "   [0.5776098 ]\n",
      "   [0.6312479 ]\n",
      "   ...\n",
      "   [0.5381651 ]\n",
      "   [0.50619227]\n",
      "   [0.        ]]]\n",
      "\n",
      "\n",
      " [[[0.8293248 ]\n",
      "   [1.1279191 ]\n",
      "   [0.74792135]\n",
      "   ...\n",
      "   [0.9257758 ]\n",
      "   [1.1790973 ]\n",
      "   [0.54458255]]\n",
      "\n",
      "  [[1.3271024 ]\n",
      "   [1.5305111 ]\n",
      "   [1.1167897 ]\n",
      "   ...\n",
      "   [1.502629  ]\n",
      "   [1.689285  ]\n",
      "   [0.7343365 ]]\n",
      "\n",
      "  [[1.5142548 ]\n",
      "   [1.8154254 ]\n",
      "   [1.2567102 ]\n",
      "   ...\n",
      "   [1.7087355 ]\n",
      "   [1.8695754 ]\n",
      "   [0.82136434]]\n",
      "\n",
      "  ...\n",
      "\n",
      "  [[1.3531632 ]\n",
      "   [1.6145378 ]\n",
      "   [1.5427208 ]\n",
      "   ...\n",
      "   [1.6101366 ]\n",
      "   [1.7443497 ]\n",
      "   [0.7225628 ]]\n",
      "\n",
      "  [[1.500023  ]\n",
      "   [1.8047215 ]\n",
      "   [1.8408802 ]\n",
      "   ...\n",
      "   [1.668433  ]\n",
      "   [1.8321427 ]\n",
      "   [0.90356946]]\n",
      "\n",
      "  [[0.9682988 ]\n",
      "   [0.5776098 ]\n",
      "   [0.6312479 ]\n",
      "   ...\n",
      "   [0.5381651 ]\n",
      "   [0.50619227]\n",
      "   [0.        ]]]\n",
      "\n",
      "\n",
      " ...\n",
      "\n",
      "\n",
      " [[[0.8298256 ]\n",
      "   [1.0956144 ]\n",
      "   [0.80410486]\n",
      "   ...\n",
      "   [0.89059263]\n",
      "   [1.0367013 ]\n",
      "   [0.49369848]]\n",
      "\n",
      "  [[1.3271519 ]\n",
      "   [1.5130726 ]\n",
      "   [1.1685241 ]\n",
      "   ...\n",
      "   [1.6655104 ]\n",
      "   [1.8903493 ]\n",
      "   [0.7623791 ]]\n",
      "\n",
      "  [[1.5142229 ]\n",
      "   [1.7844579 ]\n",
      "   [1.2686677 ]\n",
      "   ...\n",
      "   [1.6284181 ]\n",
      "   [1.7759831 ]\n",
      "   [0.8130724 ]]\n",
      "\n",
      "  ...\n",
      "\n",
      "  [[1.3531382 ]\n",
      "   [1.6253153 ]\n",
      "   [1.5703547 ]\n",
      "   ...\n",
      "   [1.5298396 ]\n",
      "   [1.6782506 ]\n",
      "   [0.776895  ]]\n",
      "\n",
      "  [[1.4999627 ]\n",
      "   [1.8076124 ]\n",
      "   [1.847665  ]\n",
      "   ...\n",
      "   [1.6045991 ]\n",
      "   [1.764721  ]\n",
      "   [0.866606  ]]\n",
      "\n",
      "  [[0.9682988 ]\n",
      "   [0.5776098 ]\n",
      "   [0.6312479 ]\n",
      "   ...\n",
      "   [0.5381651 ]\n",
      "   [0.50619227]\n",
      "   [0.        ]]]\n",
      "\n",
      "\n",
      " [[[0.8298252 ]\n",
      "   [1.0825934 ]\n",
      "   [0.8028872 ]\n",
      "   ...\n",
      "   [0.873971  ]\n",
      "   [1.0360649 ]\n",
      "   [0.48179054]]\n",
      "\n",
      "  [[1.3269475 ]\n",
      "   [1.4784987 ]\n",
      "   [1.2040733 ]\n",
      "   ...\n",
      "   [1.6850102 ]\n",
      "   [1.9050392 ]\n",
      "   [0.76903564]]\n",
      "\n",
      "  [[1.5143064 ]\n",
      "   [1.7666271 ]\n",
      "   [1.3986429 ]\n",
      "   ...\n",
      "   [1.6379197 ]\n",
      "   [1.7642945 ]\n",
      "   [0.82498837]]\n",
      "\n",
      "  ...\n",
      "\n",
      "  [[1.3531777 ]\n",
      "   [1.6255921 ]\n",
      "   [1.5742551 ]\n",
      "   ...\n",
      "   [1.4966265 ]\n",
      "   [1.6618922 ]\n",
      "   [0.77494866]]\n",
      "\n",
      "  [[1.5000366 ]\n",
      "   [1.8072711 ]\n",
      "   [1.8484571 ]\n",
      "   ...\n",
      "   [1.6051944 ]\n",
      "   [1.7648083 ]\n",
      "   [0.866606  ]]\n",
      "\n",
      "  [[0.9682988 ]\n",
      "   [0.5776098 ]\n",
      "   [0.6312479 ]\n",
      "   ...\n",
      "   [0.5381651 ]\n",
      "   [0.50619227]\n",
      "   [0.        ]]]\n",
      "\n",
      "\n",
      " [[[0.8219817 ]\n",
      "   [1.0346256 ]\n",
      "   [0.82832944]\n",
      "   ...\n",
      "   [0.8951982 ]\n",
      "   [1.0385307 ]\n",
      "   [0.47199032]]\n",
      "\n",
      "  [[1.3395588 ]\n",
      "   [1.4448459 ]\n",
      "   [1.220789  ]\n",
      "   ...\n",
      "   [1.6415577 ]\n",
      "   [1.8972118 ]\n",
      "   [0.76269287]]\n",
      "\n",
      "  [[1.5052208 ]\n",
      "   [1.7706975 ]\n",
      "   [1.4377164 ]\n",
      "   ...\n",
      "   [1.6194664 ]\n",
      "   [1.7645789 ]\n",
      "   [0.82529306]]\n",
      "\n",
      "  ...\n",
      "\n",
      "  [[1.3532876 ]\n",
      "   [1.6234752 ]\n",
      "   [1.5648992 ]\n",
      "   ...\n",
      "   [1.4968882 ]\n",
      "   [1.6621953 ]\n",
      "   [0.7759594 ]]\n",
      "\n",
      "  [[1.4999553 ]\n",
      "   [1.8055613 ]\n",
      "   [1.8459725 ]\n",
      "   ...\n",
      "   [1.6045985 ]\n",
      "   [1.764806  ]\n",
      "   [0.866606  ]]\n",
      "\n",
      "  [[0.9682988 ]\n",
      "   [0.5776098 ]\n",
      "   [0.6312479 ]\n",
      "   ...\n",
      "   [0.53816503]\n",
      "   [0.50619227]\n",
      "   [0.        ]]]]\n"
     ]
    }
   ],
   "source": [
    "print(eImgs)\n",
    "# print(eImgs[:,0])\n",
    "# print(eImgs[:,1])"
   ]
  },
  {
   "cell_type": "code",
   "execution_count": 47,
   "id": "a6e1e03c",
   "metadata": {},
   "outputs": [
    {
     "data": {
      "text/plain": [
       "array([[0.8298256 , 1.0876447 , 0.79851615, ..., 0.5381651 , 0.50619227,\n",
       "        0.        ],\n",
       "       [0.8298256 , 1.0845033 , 0.8015645 , ..., 0.5381651 , 0.50619227,\n",
       "        0.        ],\n",
       "       [0.8293248 , 1.1279191 , 0.74792135, ..., 0.5381651 , 0.50619227,\n",
       "        0.        ],\n",
       "       ...,\n",
       "       [0.8298256 , 1.0956144 , 0.80410486, ..., 0.5381651 , 0.50619227,\n",
       "        0.        ],\n",
       "       [0.8298252 , 1.0825934 , 0.8028872 , ..., 0.5381651 , 0.50619227,\n",
       "        0.        ],\n",
       "       [0.8219817 , 1.0346256 , 0.82832944, ..., 0.53816503, 0.50619227,\n",
       "        0.        ]], dtype=float32)"
      ]
     },
     "execution_count": 47,
     "metadata": {},
     "output_type": "execute_result"
    }
   ],
   "source": [
    "eImgs2 = eImgs.reshape(len(eImgs), latentShape[0] * latentShape[1])\n",
    "eImgs2"
   ]
  },
  {
   "cell_type": "code",
   "execution_count": 48,
   "id": "f48a7043",
   "metadata": {},
   "outputs": [],
   "source": [
    "# Applies KMeans clustering and prints the results\n",
    "# Parameters:\n",
    "# numClus: number of clusters\n",
    "# songVec: array of song vectors to cluster\n",
    "# songDF: song dataframe\n",
    "def cluster(numClus, songVec, songDF):\n",
    "    km = KMeans(n_clusters = numClus).fit(songVec)\n",
    "    labels = km.labels_\n",
    "    print(labels)\n",
    "    for c in range(0, numClus):\n",
    "        print(\"\\n\")\n",
    "        print(\"Cluster \" + str(c))\n",
    "        for l in range(0, len(labels)):\n",
    "            if (labels[l] == c):\n",
    "                print(songDF.iloc[l]['Artist'] + \" \" + songDF.iloc[l]['Title'])"
   ]
  },
  {
   "cell_type": "code",
   "execution_count": 51,
   "id": "21b27cc5",
   "metadata": {},
   "outputs": [
    {
     "name": "stdout",
     "output_type": "stream",
     "text": [
      "[0 3 1 4 5 2 6 0 0 5 0 3 5 3 3]\n",
      "\n",
      "\n",
      "Cluster 0\n",
      "Imagine Dragons Believer\n",
      "Sting Fields of Gold\n",
      "Genesis Hold on My Heart\n",
      "Ed Sheeran Shivers\n",
      "\n",
      "\n",
      "Cluster 1\n",
      "Survivor Eye of the Tiger\n",
      "\n",
      "\n",
      "Cluster 2\n",
      "Johnny Cash Hurt\n",
      "\n",
      "\n",
      "Cluster 3\n",
      "Imagine Dragons Natural\n",
      "Madonna La Isla Bonita\n",
      "Tones and I Dance Monkey\n",
      "Bee Gees Stayin' Alive\n",
      "\n",
      "\n",
      "Cluster 4\n",
      "Billie Eilish Everything I Wanted\n",
      "\n",
      "\n",
      "Cluster 5\n",
      "Leonard Cohen A Thousand Kisses Deep\n",
      "Damien Jurado Sheets\n",
      "Eagles Hotel California\n",
      "\n",
      "\n",
      "Cluster 6\n",
      "Eric Clapton Tears in Heaven\n"
     ]
    }
   ],
   "source": [
    "n = 7\n",
    "cluster(n, eImgs2, songs)"
   ]
  },
  {
   "cell_type": "code",
   "execution_count": null,
   "id": "064ca7dd",
   "metadata": {},
   "outputs": [],
   "source": []
  }
 ],
 "metadata": {
  "kernelspec": {
   "display_name": "Python 3 (ipykernel)",
   "language": "python",
   "name": "python3"
  },
  "language_info": {
   "codemirror_mode": {
    "name": "ipython",
    "version": 3
   },
   "file_extension": ".py",
   "mimetype": "text/x-python",
   "name": "python",
   "nbconvert_exporter": "python",
   "pygments_lexer": "ipython3",
   "version": "3.9.16"
  }
 },
 "nbformat": 4,
 "nbformat_minor": 5
}
